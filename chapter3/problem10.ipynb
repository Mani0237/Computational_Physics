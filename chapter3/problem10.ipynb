{
 "cells": [
  {
   "cell_type": "code",
   "execution_count": 3,
   "metadata": {},
   "outputs": [
    {
     "name": "stdout",
     "output_type": "stream",
     "text": [
      "Eigenvalues: [5. 6. 7.]\n",
      "Eigenvectors: [[ 0.70710678  0.         -0.70710678]\n",
      " [ 0.          1.          0.        ]\n",
      " [ 0.70710678  0.          0.70710678]]\n"
     ]
    }
   ],
   "source": [
    "import numpy as np\n",
    "\n",
    "def jacobi(A, eps=1e-8, max_iterations=100):\n",
    "    \"\"\"\n",
    "    Diagonalizes a matrix using the Jacobi method.\n",
    "\n",
    "    Parameters:\n",
    "    A (numpy.ndarray): the matrix to be diagonalized\n",
    "    eps (float): convergence criterion\n",
    "    max_iterations (int): maximum number of iterations\n",
    "\n",
    "    Returns:\n",
    "    tuple: eigenvalues and eigenvectors of the matrix\n",
    "    \"\"\"\n",
    "    n = A.shape[0]\n",
    "    V = np.identity(n)\n",
    "    iterations = 0\n",
    "    max_off_diag = np.max(np.abs(np.triu(A, k=1)))\n",
    "    while max_off_diag > eps and iterations < max_iterations:\n",
    "        # Find maximum off-diagonal element\n",
    "        p, q = np.unravel_index(np.abs(np.triu(A, k=1)).argmax(), (n,n))\n",
    "\n",
    "        # Compute Jacobi rotation matrix\n",
    "        A_ii = A[p, p]\n",
    "        A_ij = A[p, q]\n",
    "        A_jj = A[q, q]\n",
    "        theta = 0.5 * np.arctan2(2 * A_ij, A_jj - A_ii)\n",
    "        c = np.cos(theta)\n",
    "        s = np.sin(theta)\n",
    "\n",
    "        # Update matrix A and V\n",
    "        A[p, p] = c**2*A_ii - 2*s*c*A_ij + s**2*A_jj\n",
    "        A[q, q] = s**2*A_ii + 2*s*c*A_ij + c**2*A_jj\n",
    "        A[p, q] = A[q, p] = 0.0\n",
    "        for k in range(n):\n",
    "            if k != p and k != q:\n",
    "                A_pk = A[p, k]\n",
    "                A_qk = A[q, k]\n",
    "                A[p, k] = A[k, p] = c*A_pk - s*A_qk\n",
    "                A[q, k] = A[k, q] = s*A_pk + c*A_qk\n",
    "            V_pk = V[p, k]\n",
    "            V_qk = V[q, k]\n",
    "            V[p, k] = c*V_pk - s*V_qk\n",
    "            V[q, k] = s*V_pk + c*V_qk\n",
    "\n",
    "        iterations += 1\n",
    "        max_off_diag = np.max(np.abs(np.triu(A, k=1)))\n",
    "\n",
    "    eigenvalues = np.diag(A)\n",
    "    eigenvectors = V.T\n",
    "\n",
    "    return eigenvalues, eigenvectors\n",
    "\n",
    "# Example usage\n",
    "A = np.array([[6, 0, -1], [0, 6.0, 0], [-1, 0, 6]])\n",
    "eigenvalues, eigenvectors = jacobi(A)\n",
    "print(\"Eigenvalues:\", eigenvalues)\n",
    "print(\"Eigenvectors:\", eigenvectors)\n"
   ]
  }
 ],
 "metadata": {
  "kernelspec": {
   "display_name": "base",
   "language": "python",
   "name": "python3"
  },
  "language_info": {
   "codemirror_mode": {
    "name": "ipython",
    "version": 3
   },
   "file_extension": ".py",
   "mimetype": "text/x-python",
   "name": "python",
   "nbconvert_exporter": "python",
   "pygments_lexer": "ipython3",
   "version": "3.10.9"
  },
  "orig_nbformat": 4
 },
 "nbformat": 4,
 "nbformat_minor": 2
}
